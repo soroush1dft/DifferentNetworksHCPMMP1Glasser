{
 "cells": [
  {
   "cell_type": "code",
   "id": "initial_id",
   "metadata": {
    "collapsed": true,
    "ExecuteTime": {
     "end_time": "2025-04-15T11:40:11.324884Z",
     "start_time": "2025-04-15T11:40:11.320591Z"
    }
   },
   "source": [
    "import sys\n",
    "import numpy as np\n",
    "import sklearn.linear_model as skl\n",
    "import argparse\n",
    "import os\n",
    "import pickle\n",
    "import torch\n",
    "import torchvision.transforms as T\n",
    "import matplotlib.pyplot as plt\n",
    "from scipy.stats import linregress\n",
    "from sklearn.linear_model import Ridge\n",
    "from sklearn.metrics import mean_squared_error, mean_absolute_error, r2_score\n",
    "from scipy.stats import pearsonr\n",
    "import pandas as pd\n"
   ],
   "outputs": [],
   "execution_count": 12
  },
  {
   "metadata": {
    "ExecuteTime": {
     "end_time": "2025-04-15T11:40:11.477678Z",
     "start_time": "2025-04-15T11:40:11.474054Z"
    }
   },
   "cell_type": "code",
   "source": [
    "import sys\n",
    "import argparse\n",
    "\n",
    "# Check if the script is running in a Jupyter Notebook\n",
    "if 'ipykernel' in sys.modules:\n",
    "    # Default values for Jupyter Notebook\n",
    "    sub = 1  # Set the default value for \"sub\" here\n",
    "else:\n",
    "    # Argument parser setup for command-line usage\n",
    "    parser = argparse.ArgumentParser(description='Argument Parser')\n",
    "    parser.add_argument(\n",
    "        \"-sub\", \"--sub\",  # Command-line argument name\n",
    "        help=\"Subject Number\",  # Description of the argument\n",
    "        default=1  # Default value if no argument is provided\n",
    "    )\n",
    "    args = parser.parse_args()  # Parse the command-line arguments\n",
    "    sub = int(args.sub)  # Convert the argument to an integer\n",
    "    # Ensure the provided value for \"sub\" is in the allowed set\n",
    "    assert sub in [1, 2, 5, 7]\n"
   ],
   "id": "101a438464d2a8b1",
   "outputs": [],
   "execution_count": 13
  },
  {
   "metadata": {
    "ExecuteTime": {
     "end_time": "2025-04-15T11:42:30.417004Z",
     "start_time": "2025-04-15T11:42:26.217458Z"
    }
   },
   "cell_type": "code",
   "source": [
    "import numpy as np\n",
    "from sklearn.linear_model import Ridge\n",
    "\n",
    "# Subject number\n",
    "sub = 1\n",
    "\n",
    "# Load and preprocess train and test fMRI data\n",
    "train_path = r'C:\\Users\\sOrOush\\SoroushProjects\\01_Soroush_and_Shakiba\\NSD_High_Dimensional_Data\\11_Marco_And_Soroush\\Data\\processed_nsddata\\subj01\\Default\\nsd_train_fmriavg_Default_sub{:d}.npy'.format(sub, sub)\n",
    "train_fmri = np.load(train_path)\n",
    "\n",
    "test_path = r'C:\\Users\\sOrOush\\SoroushProjects\\01_Soroush_and_Shakiba\\NSD_High_Dimensional_Data\\11_Marco_And_Soroush\\Data\\processed_nsddata\\subj01\\Default\\nsd_test_fmriavg_Default_sub{:d}.npy'.format(sub, sub)\n",
    "test_fmri = np.load(test_path)\n",
    "\n",
    "# Scale the fMRI data\n",
    "train_fmri = train_fmri / 300\n",
    "test_fmri = test_fmri / 300\n",
    "\n",
    "# Normalize the fMRI data\n",
    "norm_mean_train = np.mean(train_fmri, axis=0)\n",
    "norm_scale_train = np.std(train_fmri, axis=0, ddof=1)\n",
    "train_fmri = (train_fmri - norm_mean_train) / norm_scale_train\n",
    "test_fmri = (test_fmri - norm_mean_train) / norm_scale_train\n",
    "\n",
    "# Debugging information\n",
    "print(np.mean(train_fmri), np.std(train_fmri))\n",
    "print(np.mean(test_fmri), np.std(test_fmri))\n",
    "print(np.max(train_fmri), np.min(train_fmri))\n",
    "print(np.max(test_fmri), np.min(test_fmri))\n",
    "\n",
    "# Basic info about data\n",
    "num_voxels, num_train, num_test = train_fmri.shape[1], len(train_fmri), len(test_fmri)\n"
   ],
   "id": "1276a8460694ce25",
   "outputs": [
    {
     "name": "stdout",
     "output_type": "stream",
     "text": [
      "8.420516909861324e-17 0.9999435586284282\n",
      "-0.0005780503836415376 0.9879594513515076\n",
      "18.847649652192835 -26.616083787460692\n",
      "12.224709200013582 -11.162228385394327\n"
     ]
    }
   ],
   "execution_count": 15
  },
  {
   "metadata": {
    "ExecuteTime": {
     "end_time": "2025-04-15T11:42:42.978819Z",
     "start_time": "2025-04-15T11:42:42.974968Z"
    }
   },
   "cell_type": "code",
   "source": "train_fmri.shape",
   "id": "565d8e3f2c1bf929",
   "outputs": [
    {
     "data": {
      "text/plain": [
       "(8859, 23616)"
      ]
     },
     "execution_count": 16,
     "metadata": {},
     "output_type": "execute_result"
    }
   ],
   "execution_count": 16
  },
  {
   "metadata": {
    "ExecuteTime": {
     "end_time": "2025-04-15T11:43:01.310097Z",
     "start_time": "2025-04-15T11:43:01.297680Z"
    }
   },
   "cell_type": "code",
   "source": [
    "# Define the base path to the extracted features\n",
    "base_path = r\"C:\\Users\\sOrOush\\SoroushProjects\\14_CLIP_Ozcelic\\results\"\n",
    "save_path = r\"C:\\Users\\sOrOush\\SoroushProjects\\14_CLIP_Ozcelic\\results\\polynomial_regression_results\"\n",
    "\n",
    "# Ensure the save directory exists\n",
    "os.makedirs(save_path, exist_ok=True)\n",
    "\n",
    "def process_layer(layer, degree):\n",
    "    print(f\"Processing layer {layer} with degree {degree}...\")\n",
    "\n",
    "    # Ensure that the fmri data is in float32 (assuming they are defined globally)\n",
    "    global train_fmri, test_fmri\n",
    "    train_fmri = train_fmri.astype(np.float32)\n",
    "    test_fmri = test_fmri.astype(np.float32)\n",
    "\n",
    "    # Path to the layer's latent features\n",
    "    layer_path = f\"{base_path}\\\\extracted_fetures_{layer}_Layered\\\\subj{sub:02d}\\\\nsd_vdvae_features_{layer}l.npz\"\n",
    "    nsd_features = np.load(layer_path)\n",
    "    train_latents = nsd_features['train_latents'].astype(np.float32)\n",
    "    test_latents = nsd_features['test_latents'].astype(np.float32)\n",
    "\n",
    "    def expand_features(X, degree):\n",
    "        # Ensure X is float32 before expansion\n",
    "        X = X.astype(np.float32)\n",
    "        if degree < 2:\n",
    "            return X\n",
    "        expanded = [X]\n",
    "        for d in range(2, degree + 1):\n",
    "            # Each power is cast back to float32\n",
    "            expanded.append((X ** d).astype(np.float32))\n",
    "        return np.hstack(expanded).astype(np.float32)\n",
    "\n",
    "    X_train_poly = expand_features(train_fmri, degree)\n",
    "    X_test_poly = expand_features(test_fmri, degree)\n",
    "\n",
    "    # Initialize these variables so they exist even if an error occurs\n",
    "    pred_test_latent = None\n",
    "    std_norm_test_latent = None\n",
    "    pred_latents = None\n",
    "\n",
    "    try:\n",
    "        print(\"Training latents Feature Regression\")\n",
    "        reg = Ridge(alpha=50000, max_iter=10000, fit_intercept=True)\n",
    "        reg.fit(X_train_poly, train_latents)\n",
    "\n",
    "        # Predict and cast to float32\n",
    "        pred_test_latent = reg.predict(X_test_poly).astype(np.float32)\n",
    "\n",
    "        # Compute mean and std in float32\n",
    "        pred_mean = np.mean(pred_test_latent, axis=0).astype(np.float32)\n",
    "        pred_std = np.std(pred_test_latent, axis=0).astype(np.float32)\n",
    "        std_norm_test_latent = ((pred_test_latent - pred_mean) / pred_std).astype(np.float32)\n",
    "\n",
    "        train_mean = np.mean(train_latents, axis=0).astype(np.float32)\n",
    "        train_std = np.std(train_latents, axis=0).astype(np.float32)\n",
    "        pred_latents = (std_norm_test_latent * train_std + train_mean).astype(np.float32)\n",
    "\n",
    "        r2_score = reg.score(X_test_poly, test_latents)\n",
    "        print(f\"R^2 Score on test set: {r2_score}\")\n",
    "\n",
    "        degree_folder = os.path.join(save_path, f\"degree{degree}\")\n",
    "        os.makedirs(degree_folder, exist_ok=True)\n",
    "\n",
    "        layer_save_path = os.path.join(degree_folder, f\"layer_{layer}_regression.npz\")\n",
    "        np.savez(layer_save_path,\n",
    "                 coefficients=reg.coef_.astype(np.float32),\n",
    "                 intercept=reg.intercept_.astype(np.float32),\n",
    "                 predicted_test_latents=pred_latents)\n",
    "\n",
    "        weights_path = os.path.join(degree_folder, f\"layer_{layer}_regression_weights.pkl\")\n",
    "        datadict = {\"weight\": reg.coef_.astype(np.float32),\n",
    "                    \"bias\": reg.intercept_.astype(np.float32)}\n",
    "        with open(weights_path, \"wb\") as f:\n",
    "            pickle.dump(datadict, f)\n",
    "\n",
    "        r2_score_file = os.path.join(degree_folder, \"r2_scores.txt\")\n",
    "        with open(r2_score_file, \"a\") as f:\n",
    "            f.write(f\"Layer {layer}: R^2 Score: {r2_score}\\n\")\n",
    "\n",
    "        print(f\"Saved results for layer {layer} in folder {degree_folder}\")\n",
    "\n",
    "    finally:\n",
    "        # Free up memory by deleting variables if they exist\n",
    "        del train_latents\n",
    "        del test_latents\n",
    "        if pred_test_latent is not None:\n",
    "            del pred_test_latent\n",
    "        if std_norm_test_latent is not None:\n",
    "            del std_norm_test_latent\n",
    "        if pred_latents is not None:\n",
    "            del pred_latents\n",
    "        print(f\"Freed up memory for layer {layer}\")\n"
   ],
   "id": "1d883c5c5bfa15de",
   "outputs": [],
   "execution_count": 17
  },
  {
   "metadata": {
    "ExecuteTime": {
     "end_time": "2025-04-15T12:18:09.511670Z",
     "start_time": "2025-04-15T11:43:06.685117Z"
    }
   },
   "cell_type": "code",
   "source": [
    "# [1, 2, 3, 4, 5, 7, 9, 11, 13, 15, 25, 35, 45, 55, 65]\n",
    "latent_sizes = [31]\n",
    "#[1, 2, 3, 4, 5]\n",
    "degrees = [1, 2, 3, 4]  # List of degrees to test\n",
    "\n",
    "for degree in degrees:\n",
    "    for layer in latent_sizes:\n",
    "        process_layer(layer, degree)\n"
   ],
   "id": "212854fd8fea9694",
   "outputs": [
    {
     "name": "stdout",
     "output_type": "stream",
     "text": [
      "Processing layer 31 with degree 1...\n",
      "Training latents Feature Regression\n",
      "R^2 Score on test set: -0.03864651173353195\n",
      "Saved results for layer 31 in folder C:\\Users\\sOrOush\\SoroushProjects\\14_CLIP_Ozcelic\\results\\polynomial_regression_results\\degree1\n",
      "Freed up memory for layer 31\n",
      "Processing layer 31 with degree 2...\n",
      "Training latents Feature Regression\n",
      "R^2 Score on test set: -0.10864412039518356\n",
      "Saved results for layer 31 in folder C:\\Users\\sOrOush\\SoroushProjects\\14_CLIP_Ozcelic\\results\\polynomial_regression_results\\degree2\n",
      "Freed up memory for layer 31\n",
      "Processing layer 31 with degree 3...\n",
      "Training latents Feature Regression\n",
      "R^2 Score on test set: -0.5892534255981445\n",
      "Saved results for layer 31 in folder C:\\Users\\sOrOush\\SoroushProjects\\14_CLIP_Ozcelic\\results\\polynomial_regression_results\\degree3\n",
      "Freed up memory for layer 31\n",
      "Processing layer 31 with degree 4...\n",
      "Training latents Feature Regression\n"
     ]
    },
    {
     "name": "stderr",
     "output_type": "stream",
     "text": [
      "C:\\Users\\sOrOush\\.conda\\envs\\linearity_question\\Lib\\site-packages\\sklearn\\linear_model\\_ridge.py:253: LinAlgWarning: Ill-conditioned matrix (rcond=3.28241e-08): result may not be accurate.\n",
      "  dual_coef = linalg.solve(K, y, assume_a=\"pos\", overwrite_a=False)\n"
     ]
    },
    {
     "name": "stdout",
     "output_type": "stream",
     "text": [
      "R^2 Score on test set: -3.0745909214019775\n",
      "Saved results for layer 31 in folder C:\\Users\\sOrOush\\SoroushProjects\\14_CLIP_Ozcelic\\results\\polynomial_regression_results\\degree4\n",
      "Freed up memory for layer 31\n"
     ]
    }
   ],
   "execution_count": 18
  },
  {
   "metadata": {
    "ExecuteTime": {
     "end_time": "2025-04-15T10:03:10.156688Z",
     "start_time": "2025-04-15T10:03:09.512039Z"
    }
   },
   "cell_type": "code",
   "source": [
    "import numpy as np\n",
    "\n",
    "# Replace with the correct file path for the output file\n",
    "npz_path = r\"C:\\Users\\sOrOush\\SoroushProjects\\14_CLIP_Ozcelic\\results\\polynomial_regression_results\\degree1\\layer_31_regression.npz\"\n",
    "\n",
    "# Load the npz file\n",
    "data = np.load(npz_path)\n",
    "\n",
    "# Print out the shapes of the saved arrays\n",
    "print(\"Coefficients shape:\", data['coefficients'].shape)         # Expected: (L, F * degree)\n",
    "print(\"Intercept shape:\", data['intercept'].shape)               # Expected: (L,)\n",
    "print(\"Predicted Test Latents shape:\", data['predicted_test_latents'].shape)  # Expected: (N_test, L)\n"
   ],
   "id": "f5308b5e8b861353",
   "outputs": [
    {
     "name": "stdout",
     "output_type": "stream",
     "text": [
      "Coefficients shape: (91168, 2558)\n",
      "Intercept shape: (91168,)\n",
      "Predicted Test Latents shape: (982, 91168)\n"
     ]
    }
   ],
   "execution_count": 7
  },
  {
   "metadata": {
    "ExecuteTime": {
     "end_time": "2025-04-15T10:03:45.303172Z",
     "start_time": "2025-04-15T10:03:44.174120Z"
    }
   },
   "cell_type": "code",
   "source": [
    "import numpy as np\n",
    "\n",
    "# Replace with the correct file path for the output file\n",
    "npz_path = r\"C:\\Users\\sOrOush\\SoroushProjects\\14_CLIP_Ozcelic\\results\\polynomial_regression_results\\degree2\\layer_31_regression.npz\"\n",
    "\n",
    "# Load the npz file\n",
    "data = np.load(npz_path)\n",
    "\n",
    "# Print out the shapes of the saved arrays\n",
    "print(\"Coefficients shape:\", data['coefficients'].shape)         # Expected: (L, F * degree)\n",
    "print(\"Intercept shape:\", data['intercept'].shape)               # Expected: (L,)\n",
    "print(\"Predicted Test Latents shape:\", data['predicted_test_latents'].shape)  # Expected: (N_test, L)\n"
   ],
   "id": "2f2964c9f49ffc55",
   "outputs": [
    {
     "name": "stdout",
     "output_type": "stream",
     "text": [
      "Coefficients shape: (91168, 5116)\n",
      "Intercept shape: (91168,)\n",
      "Predicted Test Latents shape: (982, 91168)\n"
     ]
    }
   ],
   "execution_count": 8
  },
  {
   "metadata": {
    "ExecuteTime": {
     "end_time": "2025-04-15T10:03:55.202873Z",
     "start_time": "2025-04-15T10:03:53.538192Z"
    }
   },
   "cell_type": "code",
   "source": [
    "import numpy as np\n",
    "\n",
    "# Replace with the correct file path for the output file\n",
    "npz_path = r\"C:\\Users\\sOrOush\\SoroushProjects\\14_CLIP_Ozcelic\\results\\polynomial_regression_results\\degree3\\layer_31_regression.npz\"\n",
    "\n",
    "# Load the npz file\n",
    "data = np.load(npz_path)\n",
    "\n",
    "# Print out the shapes of the saved arrays\n",
    "print(\"Coefficients shape:\", data['coefficients'].shape)         # Expected: (L, F * degree)\n",
    "print(\"Intercept shape:\", data['intercept'].shape)               # Expected: (L,)\n",
    "print(\"Predicted Test Latents shape:\", data['predicted_test_latents'].shape)  # Expected: (N_test, L)\n"
   ],
   "id": "718453719fb324ff",
   "outputs": [
    {
     "name": "stdout",
     "output_type": "stream",
     "text": [
      "Coefficients shape: (91168, 7674)\n",
      "Intercept shape: (91168,)\n",
      "Predicted Test Latents shape: (982, 91168)\n"
     ]
    }
   ],
   "execution_count": 9
  },
  {
   "metadata": {
    "ExecuteTime": {
     "end_time": "2025-04-15T10:04:01.034847Z",
     "start_time": "2025-04-15T10:03:58.888932Z"
    }
   },
   "cell_type": "code",
   "source": [
    "import numpy as np\n",
    "\n",
    "# Replace with the correct file path for the output file\n",
    "npz_path = r\"C:\\Users\\sOrOush\\SoroushProjects\\14_CLIP_Ozcelic\\results\\polynomial_regression_results\\degree4\\layer_31_regression.npz\"\n",
    "\n",
    "# Load the npz file\n",
    "data = np.load(npz_path)\n",
    "\n",
    "# Print out the shapes of the saved arrayws\n",
    "print(\"Coefficients shape:\", data['coefficients'].shape)         # Expected: (L, F * degree)\n",
    "print(\"Intercept shape:\", data['intercept'].shape)               # Expected: (L,)\n",
    "print(\"Predicted Test Latents shape:\", data['predicted_test_latents'].shape)  # Expected: (N_test, L)\n"
   ],
   "id": "f5848d61be5c785e",
   "outputs": [
    {
     "name": "stdout",
     "output_type": "stream",
     "text": [
      "Coefficients shape: (91168, 10232)\n",
      "Intercept shape: (91168,)\n",
      "Predicted Test Latents shape: (982, 91168)\n"
     ]
    }
   ],
   "execution_count": 10
  },
  {
   "metadata": {
    "ExecuteTime": {
     "end_time": "2025-04-15T10:04:17.133308Z",
     "start_time": "2025-04-15T10:04:14.542509Z"
    }
   },
   "cell_type": "code",
   "source": [
    "import numpy as np\n",
    "\n",
    "# Replace with the correct file path for the output file\n",
    "npz_path = r\"C:\\Users\\sOrOush\\SoroushProjects\\14_CLIP_Ozcelic\\results\\polynomial_regression_results\\degree5\\layer_31_regression.npz\"\n",
    "\n",
    "# Load the npz file\n",
    "data = np.load(npz_path)\n",
    "\n",
    "# Print out the shapes of the saved arrayws\n",
    "print(\"Coefficients shape:\", data['coefficients'].shape)         # Expected: (L, F * degree)\n",
    "print(\"Intercept shape:\", data['intercept'].shape)               # Expected: (L,)\n",
    "print(\"Predicted Test Latents shape:\", data['predicted_test_latents'].shape)  # Expected: (N_test, L)\n"
   ],
   "id": "5894cae708ec809a",
   "outputs": [
    {
     "name": "stdout",
     "output_type": "stream",
     "text": [
      "Coefficients shape: (91168, 12790)\n",
      "Intercept shape: (91168,)\n",
      "Predicted Test Latents shape: (982, 91168)\n"
     ]
    }
   ],
   "execution_count": 11
  },
  {
   "metadata": {},
   "cell_type": "code",
   "outputs": [],
   "execution_count": null,
   "source": "",
   "id": "ea305da33a960627"
  }
 ],
 "metadata": {
  "kernelspec": {
   "display_name": "Python 3",
   "language": "python",
   "name": "python3"
  },
  "language_info": {
   "codemirror_mode": {
    "name": "ipython",
    "version": 2
   },
   "file_extension": ".py",
   "mimetype": "text/x-python",
   "name": "python",
   "nbconvert_exporter": "python",
   "pygments_lexer": "ipython2",
   "version": "2.7.6"
  }
 },
 "nbformat": 4,
 "nbformat_minor": 5
}
