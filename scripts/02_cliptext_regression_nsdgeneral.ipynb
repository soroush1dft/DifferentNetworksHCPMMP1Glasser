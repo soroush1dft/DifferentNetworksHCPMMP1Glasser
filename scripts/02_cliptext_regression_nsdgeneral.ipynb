{
 "cells": [
  {
   "cell_type": "code",
   "id": "initial_id",
   "metadata": {
    "collapsed": true,
    "ExecuteTime": {
     "end_time": "2025-04-10T13:55:25.551728Z",
     "start_time": "2025-04-10T13:55:24.965430Z"
    }
   },
   "source": [
    "import sys\n",
    "import numpy as np\n",
    "import sklearn.linear_model as skl\n",
    "import pickle"
   ],
   "outputs": [],
   "execution_count": 1
  },
  {
   "metadata": {
    "ExecuteTime": {
     "end_time": "2025-04-10T13:55:26.447952Z",
     "start_time": "2025-04-10T13:55:26.442331Z"
    }
   },
   "cell_type": "code",
   "source": [
    "import argparse\n",
    "import sys\n",
    "\n",
    "# Check if the script is being run in an interactive environment\n",
    "if 'ipykernel' in sys.modules:\n",
    "    # Manually set the 'sub' variable\n",
    "    sub = 2  # You can change this value as needed\n",
    "else:\n",
    "    # Use argparse as usual\n",
    "    parser = argparse.ArgumentParser(description='Argument Parser')\n",
    "    parser.add_argument(\"-sub\", \"--sub\", help=\"Subject Number\", default=1, type=int)\n",
    "    args = parser.parse_args()\n",
    "    sub = args.sub\n",
    "\n",
    "# Ensure that sub is within the allowed range\n",
    "assert sub in [1, 2, 5, 7], \"The value of 'sub' must be one of [1, 2, 5, 7]\"\n",
    "\n",
    "print(f\"The value of 'sub' is: {sub}\")\n"
   ],
   "id": "a9c4d35c8a10b5fa",
   "outputs": [
    {
     "name": "stdout",
     "output_type": "stream",
     "text": [
      "The value of 'sub' is: 2\n"
     ]
    }
   ],
   "execution_count": 2
  },
  {
   "metadata": {
    "ExecuteTime": {
     "end_time": "2025-04-04T13:36:16.733129Z",
     "start_time": "2025-04-04T13:36:16.729238Z"
    }
   },
   "cell_type": "code",
   "source": [
    "import os\n",
    "os.chdir(r'C:\\Users\\sOrOush\\SoroushProjects\\01_Soroush_and_Shakiba\\NSD_High_Dimensional_Data\\11_Marco_And_Soroush')\n",
    "print(os.getcwd())  # Verify the new working directory"
   ],
   "id": "f8acbefc9fd73622",
   "outputs": [
    {
     "name": "stdout",
     "output_type": "stream",
     "text": [
      "C:\\Users\\sOrOush\\SoroushProjects\\01_Soroush_and_Shakiba\\NSD_High_Dimensional_Data\\11_Marco_And_Soroush\n"
     ]
    }
   ],
   "execution_count": 4
  },
  {
   "metadata": {
    "ExecuteTime": {
     "end_time": "2025-04-04T13:36:38.129887Z",
     "start_time": "2025-04-04T13:36:37.372054Z"
    }
   },
   "cell_type": "code",
   "source": [
    "train_path = 'Data/processed_nsddata/subj{:02d}/Auditory/nsd_train_fmriavg_Auditory_sub{}.npy'.format(sub,sub)\n",
    "train_fmri = np.load(train_path)\n",
    "test_path = 'Data/processed_nsddata/subj{:02d}/Auditory/nsd_test_fmriavg_Auditory_sub{}.npy'.format(sub,sub)\n",
    "test_fmri = np.load(test_path)"
   ],
   "id": "231c22fbee56d94a",
   "outputs": [],
   "execution_count": 5
  },
  {
   "metadata": {
    "ExecuteTime": {
     "end_time": "2025-04-04T13:43:48.901950Z",
     "start_time": "2025-04-04T13:36:59.620723Z"
    }
   },
   "cell_type": "code",
   "source": [
    "train_fmri = train_fmri/300\n",
    "test_fmri = test_fmri/300\n",
    "\n",
    "\n",
    "norm_mean_train = np.mean(train_fmri, axis=0)\n",
    "norm_scale_train = np.std(train_fmri, axis=0, ddof=1)\n",
    "train_fmri = (train_fmri - norm_mean_train) / norm_scale_train\n",
    "test_fmri = (test_fmri - norm_mean_train) / norm_scale_train\n",
    "\n",
    "print(np.mean(train_fmri),np.std(train_fmri))\n",
    "print(np.mean(test_fmri),np.std(test_fmri))\n",
    "\n",
    "print(np.max(train_fmri),np.min(train_fmri))\n",
    "print(np.max(test_fmri),np.min(test_fmri))\n",
    "\n",
    "num_voxels, num_train, num_test = train_fmri.shape[1], len(train_fmri), len(test_fmri)\n",
    "\n",
    "\n",
    "train_clip = np.load('Data/extracted_features/subj{:02d}/nsd_cliptext_train.npy'.format(sub))\n",
    "test_clip = np.load('Data/extracted_features/subj{:02d}/nsd_cliptext_test.npy'.format(sub))\n",
    "\n",
    "## Regression\n",
    "num_samples,num_embed,num_dim = train_clip.shape\n",
    "\n",
    "print(\"Training Regression\")\n",
    "reg_w = np.zeros((num_embed,num_dim,num_voxels)).astype(np.float32)\n",
    "reg_b = np.zeros((num_embed,num_dim)).astype(np.float32)\n",
    "pred_clip = np.zeros_like(test_clip)\n",
    "for i in range(num_embed):\n",
    "    reg = skl.Ridge(alpha=100000, max_iter=50000, fit_intercept=True)\n",
    "    reg.fit(train_fmri, train_clip[:,i])\n",
    "    reg_w[i] = reg.coef_\n",
    "    reg_b[i] = reg.intercept_\n",
    "\n",
    "    pred_test_latent = reg.predict(test_fmri)\n",
    "    std_norm_test_latent = (pred_test_latent - np.mean(pred_test_latent,axis=0)) / np.std(pred_test_latent,axis=0)\n",
    "    pred_clip[:,i] = std_norm_test_latent * np.std(train_clip[:,i],axis=0) + np.mean(train_clip[:,i],axis=0)\n",
    "    print(i,reg.score(test_fmri,test_clip[:,i]))\n"
   ],
   "id": "ad9d5d93239c108a",
   "outputs": [
    {
     "name": "stdout",
     "output_type": "stream",
     "text": [
      "-2.6905091170276335e-16 0.9999435586284333\n",
      "-0.0230087925174602 0.9934162733048788\n",
      "14.987235205038967 -14.95580829898399\n",
      "13.847471245936827 -12.376000889458274\n",
      "Training Regression\n",
      "0 0.06993177417731848\n",
      "1 0.01822931908843763\n",
      "2 0.052135685510946994\n",
      "3 0.05377105857689111\n",
      "4 0.05859353957229068\n",
      "5 0.05774858681304893\n",
      "6 0.05834531847660949\n",
      "7 0.06154981234336778\n",
      "8 0.060961959992760356\n",
      "9 0.06191740853973245\n",
      "10 0.07223775591076305\n",
      "11 0.08637742416649245\n",
      "12 0.10271776258650255\n",
      "13 0.11716067006961788\n",
      "14 0.12543152143011935\n",
      "15 0.1292312860813554\n",
      "16 0.13259890256395382\n",
      "17 0.13549090768958127\n",
      "18 0.1369092006789906\n",
      "19 0.13775770238055574\n",
      "20 0.13791385655982688\n",
      "21 0.1381249905046467\n",
      "22 0.1380687477426142\n",
      "23 0.13798756345959437\n",
      "24 0.1380546211061839\n",
      "25 0.1381718080976424\n",
      "26 0.1380960306916483\n",
      "27 0.13782881438007694\n",
      "28 0.13761303798435784\n",
      "29 0.1374266295169456\n",
      "30 0.13728404410491013\n",
      "31 0.13715125556015867\n",
      "32 0.13697496055474373\n",
      "33 0.13687595280358744\n",
      "34 0.13680055635592525\n",
      "35 0.13674839079336176\n",
      "36 0.13672335278709571\n",
      "37 0.1366074908079108\n",
      "38 0.1365636642076028\n",
      "39 0.13651763105943363\n",
      "40 0.13638381622567095\n",
      "41 0.13633228410878073\n",
      "42 0.13632700722680732\n",
      "43 0.1363934863692522\n",
      "44 0.1364222248045784\n",
      "45 0.13641541234774654\n",
      "46 0.13634322092082088\n",
      "47 0.13633810600469623\n",
      "48 0.13629574476026476\n",
      "49 0.13621953148538196\n",
      "50 0.13610111973990344\n",
      "51 0.13592990936578564\n",
      "52 0.13585407924480997\n",
      "53 0.13562037349754075\n",
      "54 0.1355467738369001\n",
      "55 0.13548451039559092\n",
      "56 0.13534515665187322\n",
      "57 0.13529860671929064\n",
      "58 0.13492971493350656\n",
      "59 0.1348894179037906\n",
      "60 0.13468568444947507\n",
      "61 0.13447570704965459\n",
      "62 0.13442930877811152\n",
      "63 0.1342847856186984\n",
      "64 0.13427208641921906\n",
      "65 0.13416693108417066\n",
      "66 0.13385622912802442\n",
      "67 0.13366147200898207\n",
      "68 0.13343776639208293\n",
      "69 0.13347889397684312\n",
      "70 0.13328617226037087\n",
      "71 0.13311579165595605\n",
      "72 0.13302079904594832\n",
      "73 0.13290986867100632\n",
      "74 0.13295664583727929\n",
      "75 0.13272721156755776\n",
      "76 0.13322458519368333\n"
     ]
    }
   ],
   "execution_count": 6
  },
  {
   "metadata": {
    "ExecuteTime": {
     "end_time": "2025-04-04T13:49:26.471915Z",
     "start_time": "2025-04-04T13:49:23.167386Z"
    }
   },
   "cell_type": "code",
   "source": [
    "import os\n",
    "import numpy as np\n",
    "import pickle\n",
    "\n",
    "base_path = r'C:\\Users\\sOrOush\\SoroushProjects\\14_CLIP_Ozcelic\\results'\n",
    "\n",
    "# === Save predicted features ===\n",
    "pred_path = os.path.join(base_path, 'predicted_features', f'subj{sub:02d}')\n",
    "os.makedirs(pred_path, exist_ok=True)\n",
    "\n",
    "pred_file = os.path.join(pred_path, 'nsd_cliptext_predtest_nsdgeneral.npy')\n",
    "np.save(pred_file, pred_clip)\n",
    "\n",
    "# === Save regression weights ===\n",
    "reg_path = os.path.join(base_path, 'regression_weights', f'subj{sub:02d}')\n",
    "os.makedirs(reg_path, exist_ok=True)\n",
    "\n",
    "datadict = {\n",
    "    'weight': reg_w,\n",
    "    'bias': reg_b,\n",
    "}\n",
    "\n",
    "reg_file = os.path.join(reg_path, 'cliptext_regression_weights.pkl')\n",
    "with open(reg_file, \"wb\") as f:\n",
    "    pickle.dump(datadict, f)"
   ],
   "id": "f2f22dde186c0638",
   "outputs": [],
   "execution_count": 7
  },
  {
   "metadata": {},
   "cell_type": "code",
   "outputs": [],
   "execution_count": null,
   "source": "",
   "id": "79e882e3ae92b3c2"
  }
 ],
 "metadata": {
  "kernelspec": {
   "display_name": "Python 3",
   "language": "python",
   "name": "python3"
  },
  "language_info": {
   "codemirror_mode": {
    "name": "ipython",
    "version": 2
   },
   "file_extension": ".py",
   "mimetype": "text/x-python",
   "name": "python",
   "nbconvert_exporter": "python",
   "pygments_lexer": "ipython2",
   "version": "2.7.6"
  }
 },
 "nbformat": 4,
 "nbformat_minor": 5
}
